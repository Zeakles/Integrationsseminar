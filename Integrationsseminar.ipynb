{
 "cells": [
  {
   "cell_type": "markdown",
   "metadata": {},
   "source": [
    "## Imports"
   ]
  },
  {
   "cell_type": "code",
   "execution_count": 1,
   "metadata": {},
   "outputs": [],
   "source": [
    "import numpy as np\n",
    "import argparse\n",
    "import matplotlib.pyplot as plt\n",
    "import cv2\n",
    "import tensorflow\n",
    "from tensorflow.keras.models import Sequential\n",
    "from tensorflow.keras.layers import Dense, Dropout, Flatten\n",
    "from tensorflow.keras.layers import Conv2D\n",
    "from tensorflow.keras.optimizers import Adam\n",
    "from tensorflow.keras.layers import MaxPooling2D\n",
    "from tensorflow.keras.preprocessing.image import ImageDataGenerator\n",
    "from tensorflow.keras.layers import Input \n",
    "from tensorflow.keras.models import Sequential, Model\n",
    "from keras.preprocessing.image import ImageDataGenerator\n",
    "from keras.preprocessing import image as image_utils\n",
    "from IPython.display import Image\n",
    "import os\n",
    "from sklearn.metrics import classification_report, confusion_matrix"
   ]
  },
  {
   "cell_type": "code",
   "execution_count": 2,
   "metadata": {},
   "outputs": [
    {
     "name": "stdout",
     "output_type": "stream",
     "text": [
      "1 Physical GPUs, 1 Logical GPUs\n"
     ]
    }
   ],
   "source": [
    "gpus = tensorflow.config.experimental.list_physical_devices('GPU')\n",
    "if gpus:\n",
    "    # Restrict TensorFlow to only allocate 1GB * 2 of memory on the first GPU\n",
    "    try:\n",
    "        tensorflow.config.experimental.set_virtual_device_configuration(\n",
    "            gpus[0],\n",
    "            [tensorflow.config.experimental.VirtualDeviceConfiguration(memory_limit=1024 * 2)])\n",
    "        logical_gpus = tensorflow.config.experimental.list_logical_devices('GPU')\n",
    "        print(len(gpus), \"Physical GPUs,\", len(logical_gpus), \"Logical GPUs\")\n",
    "    except RuntimeError as e:\n",
    "        # Virtual devices must be set before GPUs have been initialized\n",
    "        print(e)"
   ]
  },
  {
   "cell_type": "markdown",
   "metadata": {},
   "source": [
    "## Load Pre-Trained Model"
   ]
  },
  {
   "cell_type": "code",
   "execution_count": 3,
   "metadata": {},
   "outputs": [],
   "source": [
    "model = tensorflow.keras.applications.VGG16(input_shape=(48, 48, 3),\n",
    "                                            include_top=False,\n",
    "                                            weights='imagenet'\n",
    "                                           )"
   ]
  },
  {
   "cell_type": "markdown",
   "metadata": {},
   "source": [
    "## Read Data and configure Hyperparameters"
   ]
  },
  {
   "cell_type": "code",
   "execution_count": 4,
   "metadata": {},
   "outputs": [
    {
     "name": "stdout",
     "output_type": "stream",
     "text": [
      "Found 14843 images belonging to 3 classes.\n",
      "Found 4180 images belonging to 3 classes.\n"
     ]
    }
   ],
   "source": [
    "# Define data generators\n",
    "train_dir = 'images/train'\n",
    "val_dir = 'images/validation'\n",
    "\n",
    "num_train = 14843\n",
    "num_val = 3524\n",
    "batch_size = 250\n",
    "num_epoch = 50\n",
    "\n",
    "# Convert gray pictures in Training Data to rgb\n",
    "def gray_to_rgb(image):\n",
    "    image = np.dstack([image] * 1)\n",
    "    return image\n",
    "\n",
    "#train_datagen = ImageDataGenerator(preprocessing_function=gray_to_rgb, horizontal_flip=True, rescale=1./255, zoom_range=0.05)\n",
    "train_datagen = ImageDataGenerator(preprocessing_function=gray_to_rgb, horizontal_flip=True, rescale=1./255)\n",
    "val_datagen = ImageDataGenerator(preprocessing_function=gray_to_rgb, horizontal_flip=True, rescale=1./255)\n",
    "\n",
    "train_generator = train_datagen.flow_from_directory(\n",
    "        train_dir,\n",
    "        target_size=(48,48),\n",
    "        batch_size=batch_size,\n",
    "        class_mode='categorical')\n",
    "\n",
    "validation_generator = val_datagen.flow_from_directory(\n",
    "        val_dir,\n",
    "        target_size=(48,48),\n",
    "        batch_size=batch_size,\n",
    "        class_mode='categorical')"
   ]
  },
  {
   "cell_type": "markdown",
   "metadata": {},
   "source": [
    "## Adjust Model to predict 7 classes"
   ]
  },
  {
   "cell_type": "code",
   "execution_count": 5,
   "metadata": {},
   "outputs": [],
   "source": [
    "keras_input = Input(shape=(48, 48,3), name = 'image_input')\n",
    "\n",
    "#Use the generated model \n",
    "out_model = model(keras_input)\n",
    "\n",
    "#Add fully-connected layer\n",
    "x = Flatten(name='flatten')(out_model)\n",
    "x = Dense(4096, activation='relu', name='fc1')(x)\n",
    "x = Dense(4096, activation='relu', name='fc2')(x)\n",
    "x = Dense(3, activation='softmax', name='predictions')(x)\n",
    "\n",
    "\n",
    "model = Model(keras_input, outputs=x)"
   ]
  },
  {
   "cell_type": "markdown",
   "metadata": {},
   "source": [
    "## Train and save Model"
   ]
  },
  {
   "cell_type": "code",
   "execution_count": 6,
   "metadata": {
    "scrolled": true
   },
   "outputs": [
    {
     "name": "stderr",
     "output_type": "stream",
     "text": [
      "D:\\Programme\\Anaconda\\lib\\site-packages\\tensorflow\\python\\keras\\engine\\training.py:1844: UserWarning: `Model.fit_generator` is deprecated and will be removed in a future version. Please use `Model.fit`, which supports generators.\n",
      "  warnings.warn('`Model.fit_generator` is deprecated and '\n"
     ]
    },
    {
     "name": "stdout",
     "output_type": "stream",
     "text": [
      "Epoch 1/50\n",
      "59/59 [==============================] - 13s 141ms/step - loss: 1.0974 - accuracy: 0.3859 - val_loss: 0.7840 - val_accuracy: 0.6240\n",
      "Epoch 2/50\n",
      "59/59 [==============================] - 6s 109ms/step - loss: 0.7741 - accuracy: 0.6375 - val_loss: 0.6045 - val_accuracy: 0.7389\n",
      "Epoch 3/50\n",
      "59/59 [==============================] - 7s 110ms/step - loss: 0.6465 - accuracy: 0.7144 - val_loss: 0.5584 - val_accuracy: 0.7551\n",
      "Epoch 4/50\n",
      "59/59 [==============================] - 7s 110ms/step - loss: 0.5917 - accuracy: 0.7362 - val_loss: 0.5671 - val_accuracy: 0.7577\n",
      "Epoch 5/50\n",
      "59/59 [==============================] - 7s 110ms/step - loss: 0.5525 - accuracy: 0.7579 - val_loss: 0.5569 - val_accuracy: 0.7680\n",
      "Epoch 6/50\n",
      "59/59 [==============================] - 7s 111ms/step - loss: 0.4913 - accuracy: 0.7942 - val_loss: 0.6015 - val_accuracy: 0.7471\n",
      "Epoch 7/50\n",
      "59/59 [==============================] - 7s 112ms/step - loss: 0.4713 - accuracy: 0.8063 - val_loss: 0.5596 - val_accuracy: 0.7574\n",
      "Epoch 8/50\n",
      "59/59 [==============================] - 7s 111ms/step - loss: 0.4377 - accuracy: 0.8217 - val_loss: 0.6023 - val_accuracy: 0.7740\n",
      "Epoch 9/50\n",
      "59/59 [==============================] - 7s 115ms/step - loss: 0.3834 - accuracy: 0.8488 - val_loss: 0.6040 - val_accuracy: 0.7789\n",
      "Epoch 10/50\n",
      "59/59 [==============================] - 7s 115ms/step - loss: 0.3215 - accuracy: 0.8766 - val_loss: 0.5792 - val_accuracy: 0.7760\n",
      "Epoch 11/50\n",
      "59/59 [==============================] - 7s 116ms/step - loss: 0.2971 - accuracy: 0.8872 - val_loss: 0.6233 - val_accuracy: 0.7743\n",
      "Epoch 12/50\n",
      "59/59 [==============================] - 6s 104ms/step - loss: 0.2374 - accuracy: 0.9124 - val_loss: 0.6678 - val_accuracy: 0.7660\n",
      "Epoch 13/50\n",
      "59/59 [==============================] - 6s 105ms/step - loss: 0.1859 - accuracy: 0.9340 - val_loss: 0.7236 - val_accuracy: 0.7777\n",
      "Epoch 14/50\n",
      "59/59 [==============================] - 7s 110ms/step - loss: 0.1664 - accuracy: 0.9421 - val_loss: 0.7769 - val_accuracy: 0.7734\n",
      "Epoch 15/50\n",
      "59/59 [==============================] - 6s 108ms/step - loss: 0.1601 - accuracy: 0.9428 - val_loss: 0.8280 - val_accuracy: 0.7723\n",
      "Epoch 16/50\n",
      "59/59 [==============================] - 6s 107ms/step - loss: 0.1264 - accuracy: 0.9555 - val_loss: 0.7366 - val_accuracy: 0.7834\n",
      "Epoch 17/50\n",
      "59/59 [==============================] - 6s 107ms/step - loss: 0.1270 - accuracy: 0.9539 - val_loss: 0.8077 - val_accuracy: 0.7746\n",
      "Epoch 18/50\n",
      "59/59 [==============================] - 6s 106ms/step - loss: 0.0848 - accuracy: 0.9707 - val_loss: 0.8798 - val_accuracy: 0.7837\n",
      "Epoch 19/50\n",
      "59/59 [==============================] - 6s 108ms/step - loss: 0.0787 - accuracy: 0.9726 - val_loss: 0.8478 - val_accuracy: 0.7889\n",
      "Epoch 20/50\n",
      "59/59 [==============================] - 6s 107ms/step - loss: 0.0683 - accuracy: 0.9767 - val_loss: 0.9675 - val_accuracy: 0.7811\n",
      "Epoch 21/50\n",
      "59/59 [==============================] - 6s 107ms/step - loss: 0.0451 - accuracy: 0.9850 - val_loss: 1.0203 - val_accuracy: 0.7597\n",
      "Epoch 22/50\n",
      "59/59 [==============================] - 6s 106ms/step - loss: 0.0546 - accuracy: 0.9803 - val_loss: 0.9477 - val_accuracy: 0.7846\n",
      "Epoch 23/50\n",
      "59/59 [==============================] - 6s 107ms/step - loss: 0.0558 - accuracy: 0.9817 - val_loss: 1.0783 - val_accuracy: 0.7734\n",
      "Epoch 24/50\n",
      "59/59 [==============================] - 6s 109ms/step - loss: 0.0419 - accuracy: 0.9863 - val_loss: 1.1594 - val_accuracy: 0.7680\n",
      "Epoch 25/50\n",
      "59/59 [==============================] - 7s 110ms/step - loss: 0.0522 - accuracy: 0.9807 - val_loss: 1.0861 - val_accuracy: 0.7749\n",
      "Epoch 26/50\n",
      "59/59 [==============================] - 7s 115ms/step - loss: 0.0288 - accuracy: 0.9912 - val_loss: 1.0844 - val_accuracy: 0.7794\n",
      "Epoch 27/50\n",
      "59/59 [==============================] - 6s 106ms/step - loss: 0.0368 - accuracy: 0.9867 - val_loss: 1.0829 - val_accuracy: 0.7771\n",
      "Epoch 28/50\n",
      "59/59 [==============================] - 6s 105ms/step - loss: 0.0349 - accuracy: 0.9897 - val_loss: 1.0769 - val_accuracy: 0.7914\n",
      "Epoch 29/50\n",
      "59/59 [==============================] - 6s 105ms/step - loss: 0.0309 - accuracy: 0.9893 - val_loss: 1.0510 - val_accuracy: 0.7857\n",
      "Epoch 30/50\n",
      "59/59 [==============================] - 6s 105ms/step - loss: 0.0380 - accuracy: 0.9863 - val_loss: 1.0861 - val_accuracy: 0.7789\n",
      "Epoch 31/50\n",
      "59/59 [==============================] - 6s 104ms/step - loss: 0.0270 - accuracy: 0.9901 - val_loss: 1.1256 - val_accuracy: 0.7854\n",
      "Epoch 32/50\n",
      "59/59 [==============================] - 6s 106ms/step - loss: 0.0404 - accuracy: 0.9875 - val_loss: 1.1563 - val_accuracy: 0.7766\n",
      "Epoch 33/50\n",
      "59/59 [==============================] - 6s 106ms/step - loss: 0.0559 - accuracy: 0.9809 - val_loss: 1.1183 - val_accuracy: 0.7803\n",
      "Epoch 34/50\n",
      "59/59 [==============================] - 6s 106ms/step - loss: 0.0366 - accuracy: 0.9878 - val_loss: 1.1592 - val_accuracy: 0.7663\n",
      "Epoch 35/50\n",
      "59/59 [==============================] - 6s 106ms/step - loss: 0.0226 - accuracy: 0.9930 - val_loss: 1.1601 - val_accuracy: 0.7829\n",
      "Epoch 36/50\n",
      "59/59 [==============================] - 6s 106ms/step - loss: 0.0224 - accuracy: 0.9923 - val_loss: 1.1346 - val_accuracy: 0.7749\n",
      "Epoch 37/50\n",
      "59/59 [==============================] - 6s 106ms/step - loss: 0.0232 - accuracy: 0.9928 - val_loss: 1.0744 - val_accuracy: 0.7863\n",
      "Epoch 38/50\n",
      "59/59 [==============================] - 6s 106ms/step - loss: 0.0185 - accuracy: 0.9937 - val_loss: 1.2428 - val_accuracy: 0.7789\n",
      "Epoch 39/50\n",
      "59/59 [==============================] - 6s 106ms/step - loss: 0.0225 - accuracy: 0.9916 - val_loss: 1.1407 - val_accuracy: 0.7740\n",
      "Epoch 40/50\n",
      "59/59 [==============================] - 6s 106ms/step - loss: 0.0463 - accuracy: 0.9840 - val_loss: 1.1436 - val_accuracy: 0.7763\n",
      "Epoch 41/50\n",
      "59/59 [==============================] - 6s 106ms/step - loss: 0.0379 - accuracy: 0.9860 - val_loss: 1.2024 - val_accuracy: 0.7874\n",
      "Epoch 42/50\n",
      "59/59 [==============================] - 6s 106ms/step - loss: 0.0260 - accuracy: 0.9915 - val_loss: 1.1618 - val_accuracy: 0.7877\n",
      "Epoch 43/50\n",
      "59/59 [==============================] - 6s 106ms/step - loss: 0.0176 - accuracy: 0.9941 - val_loss: 1.1669 - val_accuracy: 0.7803\n",
      "Epoch 44/50\n",
      "59/59 [==============================] - 6s 106ms/step - loss: 0.0303 - accuracy: 0.9904 - val_loss: 1.0456 - val_accuracy: 0.7851\n",
      "Epoch 45/50\n",
      "59/59 [==============================] - 6s 106ms/step - loss: 0.0153 - accuracy: 0.9953 - val_loss: 1.1655 - val_accuracy: 0.7917\n",
      "Epoch 46/50\n",
      "59/59 [==============================] - 6s 109ms/step - loss: 0.0170 - accuracy: 0.9940 - val_loss: 1.0998 - val_accuracy: 0.7906\n",
      "Epoch 47/50\n",
      "59/59 [==============================] - 6s 107ms/step - loss: 0.0138 - accuracy: 0.9954 - val_loss: 1.2652 - val_accuracy: 0.7874\n",
      "Epoch 48/50\n",
      "59/59 [==============================] - 6s 106ms/step - loss: 0.0081 - accuracy: 0.9977 - val_loss: 1.4236 - val_accuracy: 0.7760\n",
      "Epoch 49/50\n",
      "59/59 [==============================] - 6s 106ms/step - loss: 0.0225 - accuracy: 0.9924 - val_loss: 1.3140 - val_accuracy: 0.7826\n",
      "Epoch 50/50\n",
      "59/59 [==============================] - 6s 106ms/step - loss: 0.0236 - accuracy: 0.9915 - val_loss: 1.2754 - val_accuracy: 0.7834\n"
     ]
    }
   ],
   "source": [
    "model.compile(loss='categorical_crossentropy',optimizer=Adam(lr=0.0001, decay=1e-6),metrics=['accuracy'])\n",
    "model_info = model.fit_generator(\n",
    "        train_generator,\n",
    "        steps_per_epoch=num_train // batch_size,\n",
    "        epochs=num_epoch,\n",
    "        validation_data=validation_generator,\n",
    "        validation_steps=num_val // batch_size)\n",
    "\n",
    "model.save('model.h5')"
   ]
  },
  {
   "cell_type": "markdown",
   "metadata": {},
   "source": [
    "## Plot Training History"
   ]
  },
  {
   "cell_type": "code",
   "execution_count": 7,
   "metadata": {},
   "outputs": [
    {
     "data": {
      "image/png": "[encoded data removed]",
      "text/plain": [
       "<Figure size 432x288 with 2 Axes>"
      ]
     },
     "metadata": {
      "needs_background": "light"
     },
     "output_type": "display_data"
    }
   ],
   "source": [
    "plt.subplot(311)  \n",
    "plt.plot(model_info.history['accuracy'])  \n",
    "plt.plot(model_info.history['val_accuracy'])  \n",
    "plt.title('model accuracy')  \n",
    "plt.ylabel('accuracy')  \n",
    "plt.xlabel('epoch')  \n",
    "plt.legend(['train', 'test'], loc='upper left')  \n",
    "\n",
    "# summarize history for loss  \n",
    "\n",
    "plt.subplot(312)  \n",
    "plt.plot(model_info.history['loss'])  \n",
    "plt.plot(model_info.history['val_loss'])  \n",
    "plt.title('model loss')  \n",
    "plt.ylabel('loss')  \n",
    "plt.xlabel('epoch')  \n",
    "plt.legend(['train', 'test'], loc='upper left')  \n",
    "plt.show()  "
   ]
  },
  {
   "cell_type": "markdown",
   "metadata": {},
   "source": [
    "## Load Model"
   ]
  },
  {
   "cell_type": "code",
   "execution_count": 8,
   "metadata": {},
   "outputs": [],
   "source": [
    "model = tensorflow.keras.models.load_model('model.h5')"
   ]
  },
  {
   "cell_type": "markdown",
   "metadata": {},
   "source": [
    "## Use Model to predict images"
   ]
  },
  {
   "cell_type": "code",
   "execution_count": 60,
   "metadata": {},
   "outputs": [],
   "source": [
    "face_cascade = cv2.CascadeClassifier('haarcascade_frontalface_default.xml')\n",
    "\n",
    "for file in os.listdir(\"test/\"):\n",
    "    picture=cv2.imread(\"test/\"+file)\n",
    "    original = picture\n",
    "\n",
    "    gray = cv2.cvtColor(picture, cv2.COLOR_BGR2GRAY)\n",
    "    faces = face_cascade.detectMultiScale(gray, 1.3, 5)\n",
    "    for (x,y,w,h) in faces:\n",
    "            cv2.rectangle(original,(x,y),(x+w,y+h),(255,0,0),2)\n",
    "            roi_color = picture[y:y+h, x:x+w]\n",
    "            picture = cv2.resize(picture, (48, 48))\n",
    "            image = image_utils.img_to_array(picture)\n",
    "            img_tensor = np.expand_dims(image, axis=0)         # (1, height, width, channels), add a dimension because the model expects this shape: (batch_size, height, width, channels)\n",
    "            img_tensor /= 255. \n",
    "\n",
    "            y_prob = model.predict(img_tensor)\n",
    "            if max(y_prob[0]) > 0.1:\n",
    "                y_classes = y_prob.argmax(axis=-1)\n",
    "                label_map = (train_generator.class_indices)\n",
    "                label_map = dict((v,k) for k,v in label_map.items()) #flip k,v\n",
    "                predictions = [label_map[k] for k in y_classes]\n",
    "\n",
    "                cv2.putText(original, predictions[0]+\" \"+str(round(max(y_prob[0]),3))+\"%\", (x, y-10), cv2.FONT_HERSHEY_SIMPLEX, 0.9, (36,255,12), 2)\n",
    "\n",
    "                cv2.imshow(\"Classification\", original)\n",
    "                cv2.waitKey(0)"
   ]
  },
  {
   "cell_type": "markdown",
   "metadata": {},
   "source": [
    "## Use Model to predict live with Webcam"
   ]
  },
  {
   "cell_type": "code",
   "execution_count": 10,
   "metadata": {},
   "outputs": [
    {
     "ename": "KeyboardInterrupt",
     "evalue": "",
     "output_type": "error",
     "traceback": [
      "\u001b[1;31m---------------------------------------------------------------------------\u001b[0m",
      "\u001b[1;31mKeyboardInterrupt\u001b[0m                         Traceback (most recent call last)",
      "\u001b[1;32m<ipython-input-10-b6654fbf0bb2>\u001b[0m in \u001b[0;36m<module>\u001b[1;34m\u001b[0m\n\u001b[0;32m      2\u001b[0m \u001b[1;33m\u001b[0m\u001b[0m\n\u001b[0;32m      3\u001b[0m \u001b[1;32mwhile\u001b[0m \u001b[1;32mTrue\u001b[0m\u001b[1;33m:\u001b[0m\u001b[1;33m\u001b[0m\u001b[1;33m\u001b[0m\u001b[0m\n\u001b[1;32m----> 4\u001b[1;33m     \u001b[0mret\u001b[0m\u001b[1;33m,\u001b[0m \u001b[0mframe\u001b[0m \u001b[1;33m=\u001b[0m \u001b[0mcamera\u001b[0m\u001b[1;33m.\u001b[0m\u001b[0mread\u001b[0m\u001b[1;33m(\u001b[0m\u001b[1;33m)\u001b[0m\u001b[1;33m\u001b[0m\u001b[1;33m\u001b[0m\u001b[0m\n\u001b[0m\u001b[0;32m      5\u001b[0m     \u001b[0moriginal\u001b[0m \u001b[1;33m=\u001b[0m \u001b[0mframe\u001b[0m\u001b[1;33m\u001b[0m\u001b[1;33m\u001b[0m\u001b[0m\n\u001b[0;32m      6\u001b[0m \u001b[1;33m\u001b[0m\u001b[0m\n",
      "\u001b[1;31mKeyboardInterrupt\u001b[0m: "
     ]
    }
   ],
   "source": [
    "camera = cv2.VideoCapture(0)\n",
    "\n",
    "while True:\n",
    "    ret, frame = camera.read()\n",
    "    original = frame\n",
    "    \n",
    "    gray = cv2.cvtColor(frame, cv2.COLOR_BGR2GRAY)\n",
    "    faces = face_cascade.detectMultiScale(gray, 1.3, 5)\n",
    "    \n",
    "    for (x,y,w,h) in faces:\n",
    "        cv2.rectangle(original,(x,y),(x+w,y+h),(255,0,0),2)\n",
    "        roi_color = frame[y:y+h, x:x+w]\n",
    "        frame = cv2.resize(frame, (48, 48))\n",
    "        image = image_utils.img_to_array(frame)\n",
    "        img_tensor = np.expand_dims(image, axis=0)         # (1, height, width, channels), add a dimension because the model expects this shape: (batch_size, height, width, channels)\n",
    "        img_tensor /= 255. \n",
    "        \n",
    "        y_prob = model.predict(img_tensor)\n",
    "        if max(y_prob[0]) > 0.1:\n",
    "            y_classes = y_prob.argmax(axis=-1)\n",
    "            label_map = (train_generator.class_indices)\n",
    "            label_map = dict((v,k) for k,v in label_map.items()) #flip k,v\n",
    "            predictions = [label_map[k] for k in y_classes]\n",
    "\n",
    "            cv2.putText(original, predictions[0], (x, y-10), cv2.FONT_HERSHEY_SIMPLEX, 0.9, (36,255,12), 2)\n",
    "            cv2.imshow(\"Classification\", original)\n",
    "            cv2.waitKey(0)\n",
    "            \n",
    "\n",
    "camera.release()\n",
    "cv2.destroyAllWindows()    "
   ]
  },
  {
   "cell_type": "markdown",
   "metadata": {},
   "source": [
    "## Evaluation of Model"
   ]
  },
  {
   "cell_type": "code",
   "execution_count": 28,
   "metadata": {},
   "outputs": [],
   "source": [
    "def plot_confusion_matrix(cm, target_names, title='Confusion matrix', cmap=None, normalize=True):\n",
    "    plt.figure(figsize=(8, 6))\n",
    "    plt.imshow(cm, interpolation='nearest', cmap=plt.get_cmap('Blues'))\n",
    "    plt.title(title)\n",
    "    plt.colorbar()\n",
    "\n",
    "    if target_names is not None:\n",
    "        tick_marks = np.arange(len(target_names))\n",
    "        plt.xticks(tick_marks, target_names, rotation=45)\n",
    "        plt.yticks(tick_marks, target_names)\n",
    "\n",
    "    if normalize:\n",
    "        cm = cm.astype('float') / cm.sum(axis=1)[:, np.newaxis]\n",
    "\n",
    "    thresh = cm.max() / 1.5 if normalize else cm.max() / 2\n",
    "    for i in range (cm.shape[0]):\n",
    "        for j in range (cm.shape[1]):\n",
    "            if normalize:\n",
    "                plt.text(j, i, \"{:0.4f}\".format(cm[i, j]),\n",
    "                         horizontalalignment=\"center\",\n",
    "                         color=\"white\" if cm[i, j] > thresh else \"black\")\n",
    "            else:\n",
    "                plt.text(j, i, \"{:,}\".format(cm[i, j]),\n",
    "                         horizontalalignment=\"center\",\n",
    "                         color=\"white\" if cm[i, j] > thresh else \"black\")\n",
    "\n",
    "    plt.tight_layout()\n",
    "    plt.ylabel('Wahren Werte', fontsize=16)\n",
    "    plt.xlabel('Prognostizierte Werte', fontsize=16)\n",
    "    plt.show()"
   ]
  },
  {
   "cell_type": "code",
   "execution_count": 59,
   "metadata": {},
   "outputs": [
    {
     "data": {
      "image/png": "[encoded data removed]",
      "text/plain": [
       "<Figure size 576x432 with 2 Axes>"
      ]
     },
     "metadata": {
      "needs_background": "light"
     },
     "output_type": "display_data"
    }
   ],
   "source": [
    "Y_pred = model.predict_generator(validation_generator, 3524 // batch_size+1)\n",
    "y_pred = np.argmax(Y_pred, axis=1)\n",
    "plot_confusion_matrix(cm = np.array(confusion_matrix(validation_generator.classes, y_pred)), \n",
    "                      normalize = True,\n",
    "                      target_names = ['happy', 'neutral', 'sad'],\n",
    "                      title = \"Confusion Matrix\")"
   ]
  },
  {
   "cell_type": "code",
   "execution_count": null,
   "metadata": {},
   "outputs": [],
   "source": []
  }
 ],
 "metadata": {
  "kernelspec": {
   "display_name": "Python 3",
   "language": "python",
   "name": "python3"
  },
  "language_info": {
   "codemirror_mode": {
    "name": "ipython",
    "version": 3
   },
   "file_extension": ".py",
   "mimetype": "text/x-python",
   "name": "python",
   "nbconvert_exporter": "python",
   "pygments_lexer": "ipython3",
   "version": "3.8.5"
  }
 },
 "nbformat": 4,
 "nbformat_minor": 4
}
